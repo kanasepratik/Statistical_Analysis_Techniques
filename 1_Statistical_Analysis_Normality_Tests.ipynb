{
 "cells": [
  {
   "cell_type": "markdown",
   "metadata": {},
   "source": [
    "# Statistical Analysis: Normality Tests"
   ]
  },
  {
   "cell_type": "code",
   "execution_count": null,
   "metadata": {},
   "outputs": [],
   "source": []
  },
  {
   "cell_type": "code",
   "execution_count": 2,
   "metadata": {},
   "outputs": [
    {
     "data": {
      "text/html": [
       "<div>\n",
       "<style scoped>\n",
       "    .dataframe tbody tr th:only-of-type {\n",
       "        vertical-align: middle;\n",
       "    }\n",
       "\n",
       "    .dataframe tbody tr th {\n",
       "        vertical-align: top;\n",
       "    }\n",
       "\n",
       "    .dataframe thead th {\n",
       "        text-align: right;\n",
       "    }\n",
       "</style>\n",
       "<table border=\"1\" class=\"dataframe\">\n",
       "  <thead>\n",
       "    <tr style=\"text-align: right;\">\n",
       "      <th></th>\n",
       "      <th>total_bill</th>\n",
       "      <th>tip</th>\n",
       "      <th>sex</th>\n",
       "      <th>smoker</th>\n",
       "      <th>day</th>\n",
       "      <th>time</th>\n",
       "      <th>size</th>\n",
       "    </tr>\n",
       "  </thead>\n",
       "  <tbody>\n",
       "    <tr>\n",
       "      <th>0</th>\n",
       "      <td>16.99</td>\n",
       "      <td>1.01</td>\n",
       "      <td>Female</td>\n",
       "      <td>No</td>\n",
       "      <td>Sun</td>\n",
       "      <td>Dinner</td>\n",
       "      <td>2</td>\n",
       "    </tr>\n",
       "    <tr>\n",
       "      <th>1</th>\n",
       "      <td>10.34</td>\n",
       "      <td>1.66</td>\n",
       "      <td>Male</td>\n",
       "      <td>No</td>\n",
       "      <td>Sun</td>\n",
       "      <td>Dinner</td>\n",
       "      <td>3</td>\n",
       "    </tr>\n",
       "    <tr>\n",
       "      <th>2</th>\n",
       "      <td>21.01</td>\n",
       "      <td>3.50</td>\n",
       "      <td>Male</td>\n",
       "      <td>No</td>\n",
       "      <td>Sun</td>\n",
       "      <td>Dinner</td>\n",
       "      <td>3</td>\n",
       "    </tr>\n",
       "    <tr>\n",
       "      <th>3</th>\n",
       "      <td>23.68</td>\n",
       "      <td>3.31</td>\n",
       "      <td>Male</td>\n",
       "      <td>No</td>\n",
       "      <td>Sun</td>\n",
       "      <td>Dinner</td>\n",
       "      <td>2</td>\n",
       "    </tr>\n",
       "    <tr>\n",
       "      <th>4</th>\n",
       "      <td>24.59</td>\n",
       "      <td>3.61</td>\n",
       "      <td>Female</td>\n",
       "      <td>No</td>\n",
       "      <td>Sun</td>\n",
       "      <td>Dinner</td>\n",
       "      <td>4</td>\n",
       "    </tr>\n",
       "  </tbody>\n",
       "</table>\n",
       "</div>"
      ],
      "text/plain": [
       "   total_bill   tip     sex smoker  day    time  size\n",
       "0       16.99  1.01  Female     No  Sun  Dinner     2\n",
       "1       10.34  1.66    Male     No  Sun  Dinner     3\n",
       "2       21.01  3.50    Male     No  Sun  Dinner     3\n",
       "3       23.68  3.31    Male     No  Sun  Dinner     2\n",
       "4       24.59  3.61  Female     No  Sun  Dinner     4"
      ]
     },
     "execution_count": 2,
     "metadata": {},
     "output_type": "execute_result"
    }
   ],
   "source": [
    "import seaborn as sns\n",
    "data=sns.load_dataset('tips')\n",
    "data.head()"
   ]
  },
  {
   "cell_type": "markdown",
   "metadata": {},
   "source": [
    "## Statistical test to check the normality of DATA"
   ]
  },
  {
   "cell_type": "code",
   "execution_count": 6,
   "metadata": {},
   "outputs": [],
   "source": [
    "#Performing Normality test\n",
    "from statistical_analysis import Statistical_analysis"
   ]
  },
  {
   "cell_type": "markdown",
   "metadata": {},
   "source": [
    "### Performing K-S Test"
   ]
  },
  {
   "cell_type": "code",
   "execution_count": 7,
   "metadata": {},
   "outputs": [
    {
     "name": "stdout",
     "output_type": "stream",
     "text": [
      "Test Results: \n",
      "kolmogorov_smirnov normality test for feature: total_bill\n",
      "alpha : 0.05 \n",
      "test_statistics:  0.9989297061453211 \n",
      "p_value:  0.0\n",
      "p_value < 0.05 \n",
      "Sample does not look Gaussian (reject H0) \n",
      "\n",
      "\n",
      "Test Results: \n",
      "kolmogorov_smirnov normality test for feature: tip\n",
      "alpha : 0.05 \n",
      "test_statistics:  0.8758859725968204 \n",
      "p_value:  2.5000042863813474e-221\n",
      "p_value < 0.05 \n",
      "Sample does not look Gaussian (reject H0) \n",
      "\n",
      "\n",
      "Test Results: \n",
      "kolmogorov_smirnov normality test for feature: size\n",
      "alpha : 0.05 \n",
      "test_statistics:  0.96085642542887 \n",
      "p_value:  0.0\n",
      "p_value < 0.05 \n",
      "Sample does not look Gaussian (reject H0) \n",
      "\n",
      "\n"
     ]
    }
   ],
   "source": [
    "#K-S test for single feature\n",
    "\n",
    "#Statistical_analysis.Normality_test(data).kolmogorov_smirnov_test('tip')\n",
    "\n",
    "\n",
    "\n",
    "#performing ks test for multiple numerical features\n",
    "for col in ['total_bill','tip','size']:\n",
    "    Statistical_analysis.Normality_test(data).kolmogorov_smirnov_test(col)"
   ]
  },
  {
   "cell_type": "markdown",
   "metadata": {},
   "source": [
    "### Performing shapiro-wilk test"
   ]
  },
  {
   "cell_type": "code",
   "execution_count": 8,
   "metadata": {},
   "outputs": [
    {
     "name": "stdout",
     "output_type": "stream",
     "text": [
      "Test Results: \n",
      "Shapiro wilk normality test for feature: total_bill\n",
      "alpha : 0.05 \n",
      "test_statistics:  0.9197188019752502 \n",
      "p_value:  3.3245434183371003e-10\n",
      "p_value < 0.05 \n",
      "Sample does not look Gaussian (reject H0) \n",
      "\n",
      "\n",
      "Test Results: \n",
      "Shapiro wilk normality test for feature: tip\n",
      "alpha : 0.05 \n",
      "test_statistics:  0.897811233997345 \n",
      "p_value:  8.20057563521992e-12\n",
      "p_value < 0.05 \n",
      "Sample does not look Gaussian (reject H0) \n",
      "\n",
      "\n",
      "Test Results: \n",
      "Shapiro wilk normality test for feature: size\n",
      "alpha : 0.05 \n",
      "test_statistics:  0.7120127081871033 \n",
      "p_value:  3.047565374957781e-20\n",
      "p_value < 0.05 \n",
      "Sample does not look Gaussian (reject H0) \n",
      "\n",
      "\n"
     ]
    }
   ],
   "source": [
    "# shapiro-wilk test for single feature\n",
    "# Statistical_analysis.Normality_test(data).shapiro_wilk_test('tip')\n",
    "\n",
    "\n",
    "# performing shapiro-wilk test for multiple numerical features\n",
    "for col in ['total_bill','tip','size']:\n",
    "    Statistical_analysis.Normality_test(data).shapiro_wilk_test(col)"
   ]
  },
  {
   "cell_type": "markdown",
   "metadata": {},
   "source": [
    "### Performing anderson-darling test"
   ]
  },
  {
   "cell_type": "code",
   "execution_count": 9,
   "metadata": {},
   "outputs": [
    {
     "name": "stdout",
     "output_type": "stream",
     "text": [
      "Test Results: \n",
      "anderson_darling_test for feature: total_bill \n",
      "\n",
      "Test Statistic: 5.520705531383555\n",
      "\n",
      "for significance_level: 15.0 \n",
      "crital_values: 0.567 \n",
      "Result: data does not look normal (reject H0) \n",
      "\n",
      "for significance_level: 10.0 \n",
      "crital_values: 0.646 \n",
      "Result: data does not look normal (reject H0) \n",
      "\n",
      "for significance_level: 5.0 \n",
      "crital_values: 0.775 \n",
      "Result: data does not look normal (reject H0) \n",
      "\n",
      "for significance_level: 2.5 \n",
      "crital_values: 0.904 \n",
      "Result: data does not look normal (reject H0) \n",
      "\n",
      "for significance_level: 1.0 \n",
      "crital_values: 1.075 \n",
      "Result: data does not look normal (reject H0) \n",
      "\n",
      "Test Results: \n",
      "anderson_darling_test for feature: tip \n",
      "\n",
      "Test Statistic: 5.299927589126298\n",
      "\n",
      "for significance_level: 15.0 \n",
      "crital_values: 0.567 \n",
      "Result: data does not look normal (reject H0) \n",
      "\n",
      "for significance_level: 10.0 \n",
      "crital_values: 0.646 \n",
      "Result: data does not look normal (reject H0) \n",
      "\n",
      "for significance_level: 5.0 \n",
      "crital_values: 0.775 \n",
      "Result: data does not look normal (reject H0) \n",
      "\n",
      "for significance_level: 2.5 \n",
      "crital_values: 0.904 \n",
      "Result: data does not look normal (reject H0) \n",
      "\n",
      "for significance_level: 1.0 \n",
      "crital_values: 1.075 \n",
      "Result: data does not look normal (reject H0) \n",
      "\n",
      "Test Results: \n",
      "anderson_darling_test for feature: size \n",
      "\n",
      "Test Statistic: 32.453592190028246\n",
      "\n",
      "for significance_level: 15.0 \n",
      "crital_values: 0.567 \n",
      "Result: data does not look normal (reject H0) \n",
      "\n",
      "for significance_level: 10.0 \n",
      "crital_values: 0.646 \n",
      "Result: data does not look normal (reject H0) \n",
      "\n",
      "for significance_level: 5.0 \n",
      "crital_values: 0.775 \n",
      "Result: data does not look normal (reject H0) \n",
      "\n",
      "for significance_level: 2.5 \n",
      "crital_values: 0.904 \n",
      "Result: data does not look normal (reject H0) \n",
      "\n",
      "for significance_level: 1.0 \n",
      "crital_values: 1.075 \n",
      "Result: data does not look normal (reject H0) \n",
      "\n"
     ]
    }
   ],
   "source": [
    "# anderson-darling test for single feature\n",
    "# Statistical_analysis.Normality_test(data).anderson_darling_test('tip')\n",
    "\n",
    "\n",
    "\n",
    "#performing anderson-darling test for multiple numerical features\n",
    "for col in ['total_bill','tip','size']:\n",
    "    Statistical_analysis.Normality_test(data).anderson_darling_test(col)"
   ]
  },
  {
   "cell_type": "code",
   "execution_count": null,
   "metadata": {},
   "outputs": [],
   "source": []
  }
 ],
 "metadata": {
  "kernelspec": {
   "display_name": "Python 3",
   "language": "python",
   "name": "python3"
  },
  "language_info": {
   "codemirror_mode": {
    "name": "ipython",
    "version": 3
   },
   "file_extension": ".py",
   "mimetype": "text/x-python",
   "name": "python",
   "nbconvert_exporter": "python",
   "pygments_lexer": "ipython3",
   "version": "3.7.3"
  }
 },
 "nbformat": 4,
 "nbformat_minor": 4
}
