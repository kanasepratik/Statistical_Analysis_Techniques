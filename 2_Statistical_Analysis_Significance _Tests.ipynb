{
 "cells": [
  {
   "cell_type": "markdown",
   "metadata": {},
   "source": [
    "# Statistical Analysis: Significance Tests"
   ]
  },
  {
   "cell_type": "code",
   "execution_count": 25,
   "metadata": {},
   "outputs": [
    {
     "data": {
      "text/html": [
       "<div>\n",
       "<style scoped>\n",
       "    .dataframe tbody tr th:only-of-type {\n",
       "        vertical-align: middle;\n",
       "    }\n",
       "\n",
       "    .dataframe tbody tr th {\n",
       "        vertical-align: top;\n",
       "    }\n",
       "\n",
       "    .dataframe thead th {\n",
       "        text-align: right;\n",
       "    }\n",
       "</style>\n",
       "<table border=\"1\" class=\"dataframe\">\n",
       "  <thead>\n",
       "    <tr style=\"text-align: right;\">\n",
       "      <th></th>\n",
       "      <th>total_bill</th>\n",
       "      <th>tip</th>\n",
       "      <th>sex</th>\n",
       "      <th>smoker</th>\n",
       "      <th>day</th>\n",
       "      <th>time</th>\n",
       "      <th>size</th>\n",
       "    </tr>\n",
       "  </thead>\n",
       "  <tbody>\n",
       "    <tr>\n",
       "      <th>0</th>\n",
       "      <td>16.99</td>\n",
       "      <td>1.01</td>\n",
       "      <td>Female</td>\n",
       "      <td>No</td>\n",
       "      <td>Sun</td>\n",
       "      <td>Dinner</td>\n",
       "      <td>2</td>\n",
       "    </tr>\n",
       "    <tr>\n",
       "      <th>1</th>\n",
       "      <td>10.34</td>\n",
       "      <td>1.66</td>\n",
       "      <td>Male</td>\n",
       "      <td>No</td>\n",
       "      <td>Sun</td>\n",
       "      <td>Dinner</td>\n",
       "      <td>3</td>\n",
       "    </tr>\n",
       "    <tr>\n",
       "      <th>2</th>\n",
       "      <td>21.01</td>\n",
       "      <td>3.50</td>\n",
       "      <td>Male</td>\n",
       "      <td>No</td>\n",
       "      <td>Sun</td>\n",
       "      <td>Dinner</td>\n",
       "      <td>3</td>\n",
       "    </tr>\n",
       "    <tr>\n",
       "      <th>3</th>\n",
       "      <td>23.68</td>\n",
       "      <td>3.31</td>\n",
       "      <td>Male</td>\n",
       "      <td>No</td>\n",
       "      <td>Sun</td>\n",
       "      <td>Dinner</td>\n",
       "      <td>2</td>\n",
       "    </tr>\n",
       "    <tr>\n",
       "      <th>4</th>\n",
       "      <td>24.59</td>\n",
       "      <td>3.61</td>\n",
       "      <td>Female</td>\n",
       "      <td>No</td>\n",
       "      <td>Sun</td>\n",
       "      <td>Dinner</td>\n",
       "      <td>4</td>\n",
       "    </tr>\n",
       "  </tbody>\n",
       "</table>\n",
       "</div>"
      ],
      "text/plain": [
       "   total_bill   tip     sex smoker  day    time  size\n",
       "0       16.99  1.01  Female     No  Sun  Dinner     2\n",
       "1       10.34  1.66    Male     No  Sun  Dinner     3\n",
       "2       21.01  3.50    Male     No  Sun  Dinner     3\n",
       "3       23.68  3.31    Male     No  Sun  Dinner     2\n",
       "4       24.59  3.61  Female     No  Sun  Dinner     4"
      ]
     },
     "execution_count": 25,
     "metadata": {},
     "output_type": "execute_result"
    }
   ],
   "source": [
    "#Importing the tips dataset from seaborn library\n",
    "import seaborn as sns\n",
    "data=sns.load_dataset('tips')\n",
    "data.head()"
   ]
  },
  {
   "cell_type": "code",
   "execution_count": 21,
   "metadata": {},
   "outputs": [],
   "source": [
    "#Performing Significance tests\n",
    "from statistical_analysis import Statistical_analysis"
   ]
  },
  {
   "cell_type": "markdown",
   "metadata": {},
   "source": [
    "## Performing Chi-Square Test"
   ]
  },
  {
   "cell_type": "code",
   "execution_count": 10,
   "metadata": {},
   "outputs": [
    {
     "name": "stdout",
     "output_type": "stream",
     "text": [
      "Chi square test between features:  sex  and  smoker\n",
      "chi-square statistic:- 0.001934818536627623\n",
      "critical_value: 3.841458820694124\n",
      "Significance level:  0.05\n",
      "Degree of Freedom:  1\n",
      "p-value: 0.964915107315732\n",
      "p_value > 0.05 \n",
      "Test Results : Retain H0,There is no relationship between 2 categorical variables \n",
      "\n",
      "\n"
     ]
    }
   ],
   "source": [
    "#performing chi square test to understand relation between two categirical features\n",
    "#chi square test between two categorical features\n",
    "Statistical_analysis.Significance_tests(data).chi_square_test('sex','smoker')"
   ]
  },
  {
   "cell_type": "code",
   "execution_count": 9,
   "metadata": {},
   "outputs": [
    {
     "name": "stdout",
     "output_type": "stream",
     "text": [
      "Chi square test between features:  sex  and  sex\n",
      "chi-square statistic:- 244.0\n",
      "critical_value: 3.841458820694124\n",
      "Significance level:  0.05\n",
      "Degree of Freedom:  1\n",
      "p-value: 0.0\n",
      "p_value < 0.05 \n",
      "Test Results  Reject H0,There is a relationship between 2 categorical variables \n",
      "\n",
      "\n",
      "Chi square test between features:  sex  and  smoker\n",
      "chi-square statistic:- 0.001934818536627623\n",
      "critical_value: 3.841458820694124\n",
      "Significance level:  0.05\n",
      "Degree of Freedom:  1\n",
      "p-value: 0.964915107315732\n",
      "p_value > 0.05 \n",
      "Test Results : Retain H0,There is no relationship between 2 categorical variables \n",
      "\n",
      "\n",
      "Chi square test between features:  sex  and  day\n",
      "chi-square statistic:- 8.01732385134847\n",
      "critical_value: 7.814727903251179\n",
      "Significance level:  0.05\n",
      "Degree of Freedom:  3\n",
      "p-value: 0.04565502741933891\n",
      "p_value < 0.05 \n",
      "Test Results  Reject H0,There is a relationship between 2 categorical variables \n",
      "\n",
      "\n",
      "Chi square test between features:  sex  and  time\n",
      "chi-square statistic:- 10.277251918677742\n",
      "critical_value: 3.841458820694124\n",
      "Significance level:  0.05\n",
      "Degree of Freedom:  1\n",
      "p-value: 0.0013468039268008658\n",
      "p_value < 0.05 \n",
      "Test Results  Reject H0,There is a relationship between 2 categorical variables \n",
      "\n",
      "\n"
     ]
    }
   ],
   "source": [
    "#Chi square tests between all categorical features\n",
    "for col in ['sex','smoker','day','time']:\n",
    "    Statistical_analysis.Significance_tests(data).chi_square_test('sex',col)"
   ]
  },
  {
   "cell_type": "code",
   "execution_count": null,
   "metadata": {},
   "outputs": [],
   "source": []
  },
  {
   "cell_type": "markdown",
   "metadata": {},
   "source": [
    "## Performing one way ANOVA test"
   ]
  },
  {
   "cell_type": "code",
   "execution_count": 13,
   "metadata": {},
   "outputs": [
    {
     "name": "stdout",
     "output_type": "stream",
     "text": [
      "One way ANOVO test results: \n",
      "ANOVA table: \n",
      "                sum_sq     df         F    PR(>F)\n",
      "sex         404.224430    1.0  5.188346  0.023612\n",
      "Residual  18854.239653  242.0       NaN       NaN\n",
      "alpha: 0.05 \n",
      "p_value: 0.023611666846859624 \n",
      "Result: \n",
      "p_value < 0.05 \n",
      "null hypothesis is true : \n",
      "all the sample means are equal or the factor did not have any significant effect on the results, reject the alternate hypothesis \n",
      "\n",
      "\n"
     ]
    }
   ],
   "source": [
    "#performing ANOVA test to understand significance betwwen numerical and categorical feature\n",
    "\n",
    "#performing one way ANOVA\n",
    "\n",
    "Statistical_analysis.Significance_tests(data).one_way_anova('total_bill~sex')"
   ]
  },
  {
   "cell_type": "code",
   "execution_count": null,
   "metadata": {},
   "outputs": [],
   "source": []
  },
  {
   "cell_type": "markdown",
   "metadata": {},
   "source": [
    "## Performing two way ANOVA test"
   ]
  },
  {
   "cell_type": "code",
   "execution_count": 17,
   "metadata": {},
   "outputs": [
    {
     "name": "stdout",
     "output_type": "stream",
     "text": [
      "Two way ANOVO test results: \n",
      "ANOVA table: \n",
      "              sum_sq     df         F    PR(>F)\n",
      "sex         1.533207    1.0  0.803168  0.371057\n",
      "smoker      0.365141    1.0  0.191278  0.662253\n",
      "day         3.926567    3.0  0.685642  0.561610\n",
      "time        1.366530    1.0  0.715855  0.398360\n",
      "Residual  452.420627  237.0       NaN       NaN\n",
      "\n",
      "Test Results for feature: sex\n",
      "alpha: 0.05 \n",
      "p_value for feature: sex: 0.37105713448899835 \n",
      "p_value > 0.05 \n",
      "alternate hypothesis is true :\n",
      "least one of the sample means is different from another,reject the null hypothesis and conclude that not all of population means are equal \n",
      "\n",
      "\n",
      "\n",
      "Two way ANOVO test results: \n",
      "ANOVA table: \n",
      "              sum_sq     df         F    PR(>F)\n",
      "sex         1.533207    1.0  0.803168  0.371057\n",
      "smoker      0.365141    1.0  0.191278  0.662253\n",
      "day         3.926567    3.0  0.685642  0.561610\n",
      "time        1.366530    1.0  0.715855  0.398360\n",
      "Residual  452.420627  237.0       NaN       NaN\n",
      "\n",
      "Test Results for feature: smoker\n",
      "alpha: 0.05 \n",
      "p_value for feature: smoker: 0.66225297892113 \n",
      "p_value > 0.05 \n",
      "alternate hypothesis is true :\n",
      "least one of the sample means is different from another,reject the null hypothesis and conclude that not all of population means are equal \n",
      "\n",
      "\n",
      "\n",
      "Two way ANOVO test results: \n",
      "ANOVA table: \n",
      "              sum_sq     df         F    PR(>F)\n",
      "sex         1.533207    1.0  0.803168  0.371057\n",
      "smoker      0.365141    1.0  0.191278  0.662253\n",
      "day         3.926567    3.0  0.685642  0.561610\n",
      "time        1.366530    1.0  0.715855  0.398360\n",
      "Residual  452.420627  237.0       NaN       NaN\n",
      "\n",
      "Test Results for feature: day\n",
      "alpha: 0.05 \n",
      "p_value for feature: day: 0.5616100608367371 \n",
      "p_value > 0.05 \n",
      "alternate hypothesis is true :\n",
      "least one of the sample means is different from another,reject the null hypothesis and conclude that not all of population means are equal \n",
      "\n",
      "\n",
      "\n",
      "Two way ANOVO test results: \n",
      "ANOVA table: \n",
      "              sum_sq     df         F    PR(>F)\n",
      "sex         1.533207    1.0  0.803168  0.371057\n",
      "smoker      0.365141    1.0  0.191278  0.662253\n",
      "day         3.926567    3.0  0.685642  0.561610\n",
      "time        1.366530    1.0  0.715855  0.398360\n",
      "Residual  452.420627  237.0       NaN       NaN\n",
      "\n",
      "Test Results for feature: time\n",
      "alpha: 0.05 \n",
      "p_value for feature: time: 0.39836026281365544 \n",
      "p_value > 0.05 \n",
      "alternate hypothesis is true :\n",
      "least one of the sample means is different from another,reject the null hypothesis and conclude that not all of population means are equal \n",
      "\n",
      "\n",
      "\n"
     ]
    }
   ],
   "source": [
    "#performing two way ANOVA test of significance for multiple features\n",
    "for col in ['sex','smoker','day','time']:\n",
    "    Statistical_analysis.Significance_tests(data).two_way_anova('tip~sex+smoker+day+time',col)"
   ]
  },
  {
   "cell_type": "code",
   "execution_count": null,
   "metadata": {},
   "outputs": [],
   "source": []
  }
 ],
 "metadata": {
  "kernelspec": {
   "display_name": "Python 3",
   "language": "python",
   "name": "python3"
  },
  "language_info": {
   "codemirror_mode": {
    "name": "ipython",
    "version": 3
   },
   "file_extension": ".py",
   "mimetype": "text/x-python",
   "name": "python",
   "nbconvert_exporter": "python",
   "pygments_lexer": "ipython3",
   "version": "3.7.3"
  }
 },
 "nbformat": 4,
 "nbformat_minor": 4
}
